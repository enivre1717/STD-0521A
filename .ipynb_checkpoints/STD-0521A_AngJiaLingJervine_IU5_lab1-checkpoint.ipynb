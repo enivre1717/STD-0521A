{
 "cells": [
  {
   "cell_type": "code",
   "execution_count": 3,
   "id": "f1552380-1dd6-4666-b865-83bbe8261db9",
   "metadata": {},
   "outputs": [],
   "source": [
    "import matplotlib.pyplot as plt\n",
    "import pandas as pd"
   ]
  },
  {
   "cell_type": "code",
   "execution_count": 4,
   "id": "db9295fc-5ab2-4cc6-8296-198af8acea7d",
   "metadata": {},
   "outputs": [],
   "source": [
    "v = pd.DataFrame({\n",
    " \"x\": [0,2],\n",
    " \"y\": [0,1]\n",
    "})"
   ]
  },
  {
   "cell_type": "code",
   "execution_count": 5,
   "id": "a3a86976-1071-4ab3-88d2-3f3d8eeef8c6",
   "metadata": {},
   "outputs": [
    {
     "data": {
      "image/png": "[encoded data removed]",
      "text/plain": [
       "<Figure size 432x288 with 1 Axes>"
      ]
     },
     "metadata": {
      "needs_background": "light"
     },
     "output_type": "display_data"
    }
   ],
   "source": [
    "plt.plot(v[\"x\"], v[\"y\"], color=\"red\")\n",
    "plt.xlim(-5,5)\n",
    "plt.ylim(-5,5)\n",
    "plt.grid(True)\n",
    "plt.ylabel('y')\n",
    "plt.xlabel('x')\n",
    "plt.show()"
   ]
  },
  {
   "cell_type": "code",
   "execution_count": 36,
   "id": "2b553f96-87aa-4b47-b81c-c5bd14d5acfc",
   "metadata": {},
   "outputs": [
    {
     "data": {
      "text/plain": [
       "2.23606797749979"
      ]
     },
     "execution_count": 36,
     "metadata": {},
     "output_type": "execute_result"
    }
   ],
   "source": [
    "import math\n",
    "vMag = math.sqrt(v.iloc[1][\"x\"]**2+v.iloc[1][\"y\"]**2)\n",
    "vMag"
   ]
  },
  {
   "cell_type": "code",
   "execution_count": 40,
   "id": "941e90fc-412b-489c-9880-09965994c812",
   "metadata": {},
   "outputs": [
    {
     "name": "stdout",
     "output_type": "stream",
     "text": [
      "tan     =  0.5\n",
      "arc tan =  26.56505117707799\n"
     ]
    }
   ],
   "source": [
    "vTan = v.iloc[1][\"y\"]/v.iloc[1][\"x\"]\n",
    "print('tan     = ',vTan)\n",
    "\n",
    "arc_vTan = math.atan(vTan)\n",
    "print('arc tan = ', math.degrees(arc_vTan))"
   ]
  },
  {
   "cell_type": "code",
   "execution_count": null,
   "id": "cb27f985-38fc-4911-ad08-102413a1678a",
   "metadata": {},
   "outputs": [],
   "source": []
  }
 ],
 "metadata": {
  "kernelspec": {
   "display_name": "Python 3 (ipykernel)",
   "language": "python",
   "name": "python3"
  },
  "language_info": {
   "codemirror_mode": {
    "name": "ipython",
    "version": 3
   },
   "file_extension": ".py",
   "mimetype": "text/x-python",
   "name": "python",
   "nbconvert_exporter": "python",
   "pygments_lexer": "ipython3",
   "version": "3.7.10"
  }
 },
 "nbformat": 4,
 "nbformat_minor": 5
}
