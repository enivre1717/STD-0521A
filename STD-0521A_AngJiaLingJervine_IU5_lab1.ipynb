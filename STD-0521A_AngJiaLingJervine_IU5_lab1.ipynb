{
 "cells": [
  {
   "cell_type": "code",
   "execution_count": 1,
   "id": "f1552380-1dd6-4666-b865-83bbe8261db9",
   "metadata": {},
   "outputs": [],
   "source": [
    "import matplotlib.pyplot as plt\n",
    "import pandas as pd"
   ]
  },
  {
   "cell_type": "code",
   "execution_count": 14,
   "id": "db9295fc-5ab2-4cc6-8296-198af8acea7d",
   "metadata": {},
   "outputs": [],
   "source": [
    "v = pd.DataFrame({\n",
    " \"x\": [0,2],\n",
    " \"y\": [0,1]\n",
    "})"
   ]
  },
  {
   "cell_type": "code",
   "execution_count": 5,
   "id": "a3a86976-1071-4ab3-88d2-3f3d8eeef8c6",
   "metadata": {},
   "outputs": [
    {
     "data": {
      "image/png": "[encoded data removed]",
      "text/plain": [
       "<Figure size 432x288 with 1 Axes>"
      ]
     },
     "metadata": {
      "needs_background": "light"
     },
     "output_type": "display_data"
    }
   ],
   "source": [
    "plt.plot(v[\"x\"], v[\"y\"], color=\"red\")\n",
    "plt.xlim(-5,5)\n",
    "plt.ylim(-5,5)\n",
    "plt.grid(True)\n",
    "plt.ylabel('y')\n",
    "plt.xlabel('x')\n",
    "plt.show()"
   ]
  },
  {
   "cell_type": "code",
   "execution_count": 4,
   "id": "2b553f96-87aa-4b47-b81c-c5bd14d5acfc",
   "metadata": {},
   "outputs": [
    {
     "data": {
      "text/plain": [
       "2.23606797749979"
      ]
     },
     "execution_count": 4,
     "metadata": {},
     "output_type": "execute_result"
    }
   ],
   "source": [
    "import math\n",
    "vMag = math.sqrt(v.iloc[1][\"x\"]**2+v.iloc[1][\"y\"]**2)\n",
    "vMag"
   ]
  },
  {
   "cell_type": "code",
   "execution_count": 5,
   "id": "941e90fc-412b-489c-9880-09965994c812",
   "metadata": {},
   "outputs": [
    {
     "name": "stdout",
     "output_type": "stream",
     "text": [
      "tan     =  0.5\n",
      "arc tan =  26.56505117707799\n"
     ]
    }
   ],
   "source": [
    "vTan = v.iloc[1][\"y\"]/v.iloc[1][\"x\"]\n",
    "print('tan     = ',vTan)\n",
    "\n",
    "arc_vTan = math.atan(vTan)\n",
    "print('arc tan = ', math.degrees(arc_vTan))"
   ]
  },
  {
   "cell_type": "code",
   "execution_count": 6,
   "id": "39352e49-cd40-4df8-8e59-173e0599d3ef",
   "metadata": {},
   "outputs": [
    {
     "name": "stdout",
     "output_type": "stream",
     "text": [
      "arc tan =  26.56505117707799\n",
      "atan for s =  146.30993247402023\n"
     ]
    }
   ],
   "source": [
    "import math\n",
    "## Another data frame s\n",
    "s = pd.DataFrame({\n",
    "    \"x\": [0,-3],\n",
    "    \"y\": [0,2]\n",
    "})\n",
    "\n",
    "sTan = s.iloc[1][\"y\"]/s.iloc[1][\"x\"]\n",
    "arc_sTan = math.atan(sTan)\n",
    "\n",
    "print('arc tan = ', math.degrees(arc_vTan))\n",
    "## Print the arc tan of s\n",
    "print('atan for s = ', 180 + math.degrees(arc_sTan))"
   ]
  },
  {
   "cell_type": "code",
   "execution_count": 25,
   "id": "60767093-f9ba-42ad-bab2-0b33217cfe53",
   "metadata": {},
   "outputs": [
    {
     "data": {
      "text/plain": [
       "(-5.0, 5.0)"
      ]
     },
     "execution_count": 25,
     "metadata": {},
     "output_type": "execute_result"
    },
    {
     "data": {
      "image/png": "[encoded data removed]",
      "text/plain": [
       "<Figure size 432x288 with 1 Axes>"
      ]
     },
     "metadata": {
      "needs_background": "light"
     },
     "output_type": "display_data"
    }
   ],
   "source": [
    "fig, ax = plt.subplots()\n",
    "ax.plot(v[\"x\"],v[\"y\"], color=\"red\", label=\"v\")\n",
    "ax.plot(s[\"x\"],s[\"y\"], color=\"blue\", label=\"s\")\n",
    "ax.set_ylabel(\"y\")\n",
    "ax.set_xlabel(\"x\")\n",
    "ax.set_title(\"v VS s\")\n",
    "ax.set_ylim(-5,5)\n",
    "ax.set_xlim(-5,5)"
   ]
  },
  {
   "cell_type": "code",
   "execution_count": 31,
   "id": "84c5a53b-0838-4939-8df1-4009ef16345b",
   "metadata": {},
   "outputs": [
    {
     "data": {
      "text/html": [
       "<div>\n",
       "<style scoped>\n",
       "    .dataframe tbody tr th:only-of-type {\n",
       "        vertical-align: middle;\n",
       "    }\n",
       "\n",
       "    .dataframe tbody tr th {\n",
       "        vertical-align: top;\n",
       "    }\n",
       "\n",
       "    .dataframe thead th {\n",
       "        text-align: right;\n",
       "    }\n",
       "</style>\n",
       "<table border=\"1\" class=\"dataframe\">\n",
       "  <thead>\n",
       "    <tr style=\"text-align: right;\">\n",
       "      <th></th>\n",
       "      <th>x</th>\n",
       "      <th>y</th>\n",
       "    </tr>\n",
       "  </thead>\n",
       "  <tbody>\n",
       "    <tr>\n",
       "      <th>1</th>\n",
       "      <td>-1</td>\n",
       "      <td>3</td>\n",
       "    </tr>\n",
       "  </tbody>\n",
       "</table>\n",
       "</div>"
      ],
      "text/plain": [
       "   x  y\n",
       "1 -1  3"
      ]
     },
     "execution_count": 31,
     "metadata": {},
     "output_type": "execute_result"
    }
   ],
   "source": [
    "z = v + s\n",
    "z[1:]"
   ]
  },
  {
   "cell_type": "code",
   "execution_count": null,
   "id": "9be9e242-a0ae-4818-95d4-7e0a75a7f84f",
   "metadata": {},
   "outputs": [],
   "source": []
  }
 ],
 "metadata": {
  "kernelspec": {
   "display_name": "Python 3 (ipykernel)",
   "language": "python",
   "name": "python3"
  },
  "language_info": {
   "codemirror_mode": {
    "name": "ipython",
    "version": 3
   },
   "file_extension": ".py",
   "mimetype": "text/x-python",
   "name": "python",
   "nbconvert_exporter": "python",
   "pygments_lexer": "ipython3",
   "version": "3.7.10"
  }
 },
 "nbformat": 4,
 "nbformat_minor": 5
}
